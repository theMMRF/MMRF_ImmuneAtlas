{
 "cells": [
  {
   "cell_type": "code",
   "execution_count": 2,
   "id": "27ac4bbd-c81d-472e-a047-0f3cf787abd3",
   "metadata": {},
   "outputs": [],
   "source": [
    "library(tidyverse)\n",
    "library(ComplexHeatmap)\n",
    "library(here)\n",
    "options(here.quiet = TRUE)"
   ]
  },
  {
   "cell_type": "code",
   "execution_count": 3,
   "id": "7b4a75ce-de7a-4407-a087-377a19b4f2a5",
   "metadata": {},
   "outputs": [
    {
     "data": {
      "text/plain": [
       "          progression_group\n",
       "risk_group Inc NP  P RP\n",
       "        HR  19 32 32 40\n",
       "        SR  20 40 29 19"
      ]
     },
     "metadata": {},
     "output_type": "display_data"
    }
   ],
   "source": [
    "df <-read.delim(\"../data/baseline_263_visit_clinical.txt\")\n",
    "\n",
    "# Format the categorical variable to appropriate factor levels.\n",
    "df <- df %>%\n",
    "  mutate(\n",
    "    Sex = d_pt_sex,\n",
    "    Age = d_dx_amm_age,\n",
    "    BMI = d_dx_amm_bmi,\n",
    "    Transplant = d_amm_tx_asct_1st,\n",
    "    PFS = censpfs,\n",
    "    PFS.time = ttcpfs,\n",
    "    OS = censos,\n",
    "    OS.time = ttcos,\n",
    "    Treatment = case_when(\n",
    "      d_tx_induction_cat == \"chemo_imid_pi_steroid\" ~ \"imid_pi_steroid\",\n",
    "      d_tx_induction_cat == \"chemo_pi_steroid\" ~ \"pi_steroid\",\n",
    "      TRUE ~ d_tx_induction_cat\n",
    "    ),\n",
    "    risk = case_when(\n",
    "      davies_based_risk %in% c(\"no_risk_data\", \"not_calculable\") ~ NA_character_,\n",
    "      TRUE ~ as.character(davies_based_risk)\n",
    "    ),\n",
    "    ECOG = case_when(\n",
    "      d_dx_amm_ecog %in% c(\"3\", \"4\") ~ \">=3\",\n",
    "      TRUE ~ as.character(d_dx_amm_ecog)\n",
    "    ),\n",
    "    Race = case_when(\n",
    "      d_pt_race_1 %in% c(\"asian_nos\", \"unknown\") ~ \"others/unknown\",\n",
    "      d_pt_race_1 %in% c(\"black_african_american\") ~ \"black\",\n",
    "      TRUE ~ as.character(d_pt_race_1)\n",
    "    ),\n",
    "    ISS_stage = case_when(\n",
    "      d_dx_amm_iss_stage %in% c(\"1\") ~ \"stage I\",\n",
    "      d_dx_amm_iss_stage %in% c(\"2\") ~ \"stage II\",\n",
    "      d_dx_amm_iss_stage %in% c(\"3\") ~ \"stage III\",\n",
    "      TRUE ~ as.character(d_dx_amm_iss_stage)\n",
    "    )\n",
    "  ) %>%\n",
    "  mutate(\n",
    "    Treatment = factor(Treatment, levels = c(\"pi_steroid\", \"imid_pi_steroid\", \"imid_steroid\")),\n",
    "    risk = factor(risk, levels = c(\"standard_risk\", \"high_risk\")),\n",
    "    ECOG = factor(ECOG, levels = c(\"0\", \"1\", \"2\", \">=3\")),\n",
    "    Race = factor(Race, levels = c(\"white\", \"black\", \"others/unknown\")),\n",
    "    ISS_stage = factor(ISS_stage, levels = c(\"stage I\", \"stage II\", \"stage III\"))\n",
    "  ) %>%\n",
    "  mutate(risk_group = case_when(\n",
    "    risk == \"standard_risk\" ~ \"SR\",\n",
    "    risk == \"high_risk\" ~ \"HR\",\n",
    "    TRUE ~ risk  # Keeps other risk values unchanged (if needed)\n",
    "  ))\n",
    "\n",
    "\n",
    "\n",
    "# Display the first few rows of the transformed data frame\n",
    "df %>%\n",
    "  select(risk_group,progression_group)%>% table()"
   ]
  },
  {
   "cell_type": "code",
   "execution_count": 4,
   "id": "ec7ff62b-7505-4235-b83c-5c44ab5ac8fa",
   "metadata": {},
   "outputs": [],
   "source": [
    "# Filter df for \"SR\" risk\n",
    "SR_id <- df %>%\n",
    "  filter(risk_group == \"SR\") %>%\n",
    "  pull(public_id)  # This extracts just the public_id as a vector\n",
    "\n",
    "# Filter df for \"HR\" risk \n",
    "HR_id <- df %>%\n",
    "  filter(risk_group == \"HR\") %>%\n",
    "  pull(public_id)  # This extracts just the public_id as a vector\n",
    "\n",
    "\n",
    "# Filter df for \"SR\" risk \n",
    "RP_id <- df %>%\n",
    "  filter(progression_group == \"RP\") %>%\n",
    "  pull(public_id)  # This extracts just the public_id as a vector\n",
    "\n",
    "# Filter df for \"HR\" risk \n",
    "NP_id <- df %>%\n",
    "  filter(progression_group == \"NP\") %>%\n",
    "  pull(public_id) \n"
   ]
  },
  {
   "cell_type": "code",
   "execution_count": 5,
   "id": "ebe7440a-a2c4-46cf-adcd-efe12f567b0e",
   "metadata": {},
   "outputs": [
    {
     "data": {
      "image/png": "[encoded data removed]",
      "text/plain": [
       "plot without title"
      ]
     },
     "metadata": {
      "image/png": {
       "height": 420,
       "width": 420
      }
     },
     "output_type": "display_data"
    }
   ],
   "source": [
    "lt = list(SR = SR_id,\n",
    "          HR = HR_id,\n",
    "          RP = RP_id,\n",
    "          NP = NP_id)\n",
    "m = make_comb_mat(lt)\n",
    "\n",
    "ss = set_size(m)\n",
    "cs = comb_size(m)\n",
    "\n",
    "# Define specific order of the sets\n",
    "desired_order <- c(\"SR\", \"HR\", \"NP\", \"RP\")\n",
    "\n",
    "ht = UpSet(m,\n",
    "    #set_order = order(ss),\n",
    "    set_order = desired_order,\n",
    "    comb_order = order(-cs),\n",
    "    top_annotation = HeatmapAnnotation(\n",
    "        \"Intersection of Patients\" = anno_barplot(cs, \n",
    "            ylim = c(0, max(cs)*1.1),\n",
    "            border = FALSE, \n",
    "            gp = gpar(fill = \"black\"), \n",
    "            height = unit(4, \"cm\")\n",
    "        ), \n",
    "        annotation_name_side = \"left\", \n",
    "        annotation_name_rot = 90),\n",
    "    left_annotation = rowAnnotation(\n",
    "        \"Number of Patients\" = anno_barplot(-ss, \n",
    "            baseline = 0,\n",
    "            axis_param = list(\n",
    "                at = c(0, -50, -100 -150),\n",
    "                labels = c(0, 50, 100, 150),\n",
    "                labels_rot = 0),\n",
    "            border = FALSE, \n",
    "            gp = gpar(fill = \"black\"), \n",
    "            width = unit(4, \"cm\")\n",
    "        ),\n",
    "        set_name = anno_text(set_name(m), \n",
    "            location = 0.5, \n",
    "            just = \"center\",\n",
    "            width = max_text_width(set_name(m)) + unit(1, \"mm\"))\n",
    "    ), \n",
    "    right_annotation = NULL,\n",
    "    show_row_names = FALSE)\n",
    "ht = draw(ht)\n",
    "od = column_order(ht)\n",
    "\n"
   ]
  },
  {
   "cell_type": "code",
   "execution_count": null,
   "id": "99ea7800-3cb1-49a8-9592-77730766dc2c",
   "metadata": {},
   "outputs": [],
   "source": []
  }
 ],
 "metadata": {
  "kernelspec": {
   "display_name": "R [conda env:anaconda3-aucell]",
   "language": "R",
   "name": "conda-env-anaconda3-aucell-r"
  },
  "language_info": {
   "codemirror_mode": "r",
   "file_extension": ".r",
   "mimetype": "text/x-r-source",
   "name": "R",
   "pygments_lexer": "r",
   "version": "4.3.1"
  }
 },
 "nbformat": 4,
 "nbformat_minor": 5
}
